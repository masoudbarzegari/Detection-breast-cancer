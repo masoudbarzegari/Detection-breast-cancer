{
  "nbformat": 4,
  "nbformat_minor": 0,
  "metadata": {
    "colab": {
      "name": "test2.ipynb",
      "provenance": [],
      "collapsed_sections": []
    },
    "kernelspec": {
      "name": "python3",
      "display_name": "Python 3"
    },
    "accelerator": "GPU"
  },
  "cells": [
    {
      "cell_type": "markdown",
      "metadata": {
        "id": "tMM5cIo7nosz",
        "colab_type": "text"
      },
      "source": [
        "# Data download"
      ]
    },
    {
      "cell_type": "code",
      "metadata": {
        "id": "iKMhZpvRltCe",
        "colab_type": "code",
        "outputId": "f508e210-ff0b-48e8-ca21-e2b7ae04c2b2",
        "colab": {
          "base_uri": "https://localhost:8080/",
          "height": 69
        }
      },
      "source": [
        "!curl http://peipa.essex.ac.uk/pix/mias/all-mias.tar.gz -o all-mias.tar.gz\n"
      ],
      "execution_count": 10,
      "outputs": [
        {
          "output_type": "stream",
          "text": [
            "  % Total    % Received % Xferd  Average Speed   Time    Time     Time  Current\n",
            "                                 Dload  Upload   Total   Spent    Left  Speed\n",
            "100  106M  100  106M    0     0  6871k      0  0:00:15  0:00:15 --:--:-- 9179k\n"
          ],
          "name": "stdout"
        }
      ]
    },
    {
      "cell_type": "markdown",
      "metadata": {
        "id": "AaN_oGtXn5wb",
        "colab_type": "text"
      },
      "source": [
        "# ***Mkdir***"
      ]
    },
    {
      "cell_type": "code",
      "metadata": {
        "id": "DjI8khq3tL8q",
        "colab_type": "code",
        "outputId": "e8ebb84c-a06b-4504-f537-9db084d1c7f8",
        "colab": {
          "base_uri": "https://localhost:8080/",
          "height": 1000
        }
      },
      "source": [
        "!ls\n",
        "!tar xvzf all-mias.tar.gz\n",
        "!mkdir all-mias\n",
        "!mv *.pgm all-mias"
      ],
      "execution_count": 1,
      "outputs": [
        {
          "output_type": "stream",
          "text": [
            "all-mias\t breast_cance_model.h5\thistory1.dat  Licence.txt  sample_data\n",
            "all-mias.tar.gz  drive\t\t\tInfo.txt      README\n",
            "Info.txt\n",
            "Licence.txt\n",
            "README\n",
            "mdb001.pgm\n",
            "mdb002.pgm\n",
            "mdb003.pgm\n",
            "mdb004.pgm\n",
            "mdb005.pgm\n",
            "mdb006.pgm\n",
            "mdb007.pgm\n",
            "mdb008.pgm\n",
            "mdb009.pgm\n",
            "mdb010.pgm\n",
            "mdb011.pgm\n",
            "mdb012.pgm\n",
            "mdb013.pgm\n",
            "mdb014.pgm\n",
            "mdb015.pgm\n",
            "mdb016.pgm\n",
            "mdb017.pgm\n",
            "mdb018.pgm\n",
            "mdb019.pgm\n",
            "mdb020.pgm\n",
            "mdb021.pgm\n",
            "mdb022.pgm\n",
            "mdb023.pgm\n",
            "mdb024.pgm\n",
            "mdb025.pgm\n",
            "mdb026.pgm\n",
            "mdb027.pgm\n",
            "mdb028.pgm\n",
            "mdb029.pgm\n",
            "mdb030.pgm\n",
            "mdb031.pgm\n",
            "mdb032.pgm\n",
            "mdb033.pgm\n",
            "mdb034.pgm\n",
            "mdb035.pgm\n",
            "mdb036.pgm\n",
            "mdb037.pgm\n",
            "mdb038.pgm\n",
            "mdb039.pgm\n",
            "mdb040.pgm\n",
            "mdb041.pgm\n",
            "mdb042.pgm\n",
            "mdb043.pgm\n",
            "mdb044.pgm\n",
            "mdb045.pgm\n",
            "mdb046.pgm\n",
            "mdb047.pgm\n",
            "mdb048.pgm\n",
            "mdb049.pgm\n",
            "mdb050.pgm\n",
            "mdb051.pgm\n",
            "mdb052.pgm\n",
            "mdb053.pgm\n",
            "mdb054.pgm\n",
            "mdb055.pgm\n",
            "mdb056.pgm\n",
            "mdb057.pgm\n",
            "mdb058.pgm\n",
            "mdb059.pgm\n",
            "mdb060.pgm\n",
            "mdb061.pgm\n",
            "mdb062.pgm\n",
            "mdb063.pgm\n",
            "mdb064.pgm\n",
            "mdb065.pgm\n",
            "mdb066.pgm\n",
            "mdb067.pgm\n",
            "mdb068.pgm\n",
            "mdb069.pgm\n",
            "mdb070.pgm\n",
            "mdb071.pgm\n",
            "mdb072.pgm\n",
            "mdb073.pgm\n",
            "mdb074.pgm\n",
            "mdb075.pgm\n",
            "mdb076.pgm\n",
            "mdb077.pgm\n",
            "mdb078.pgm\n",
            "mdb079.pgm\n",
            "mdb080.pgm\n",
            "mdb081.pgm\n",
            "mdb082.pgm\n",
            "mdb083.pgm\n",
            "mdb084.pgm\n",
            "mdb085.pgm\n",
            "mdb086.pgm\n",
            "mdb087.pgm\n",
            "mdb088.pgm\n",
            "mdb089.pgm\n",
            "mdb090.pgm\n",
            "mdb091.pgm\n",
            "mdb092.pgm\n",
            "mdb093.pgm\n",
            "mdb094.pgm\n",
            "mdb095.pgm\n",
            "mdb096.pgm\n",
            "mdb097.pgm\n",
            "mdb098.pgm\n",
            "mdb099.pgm\n",
            "mdb100.pgm\n",
            "mdb101.pgm\n",
            "mdb102.pgm\n",
            "mdb103.pgm\n",
            "mdb104.pgm\n",
            "mdb105.pgm\n",
            "mdb106.pgm\n",
            "mdb107.pgm\n",
            "mdb108.pgm\n",
            "mdb109.pgm\n",
            "mdb110.pgm\n",
            "mdb111.pgm\n",
            "mdb112.pgm\n",
            "mdb113.pgm\n",
            "mdb114.pgm\n",
            "mdb115.pgm\n",
            "mdb116.pgm\n",
            "mdb117.pgm\n",
            "mdb118.pgm\n",
            "mdb119.pgm\n",
            "mdb120.pgm\n",
            "mdb121.pgm\n",
            "mdb122.pgm\n",
            "mdb123.pgm\n",
            "mdb124.pgm\n",
            "mdb125.pgm\n",
            "mdb126.pgm\n",
            "mdb127.pgm\n",
            "mdb128.pgm\n",
            "mdb129.pgm\n",
            "mdb130.pgm\n",
            "mdb131.pgm\n",
            "mdb132.pgm\n",
            "mdb133.pgm\n",
            "mdb134.pgm\n",
            "mdb135.pgm\n",
            "mdb136.pgm\n",
            "mdb137.pgm\n",
            "mdb138.pgm\n",
            "mdb139.pgm\n",
            "mdb140.pgm\n",
            "mdb141.pgm\n",
            "mdb142.pgm\n",
            "mdb143.pgm\n",
            "mdb144.pgm\n",
            "mdb145.pgm\n",
            "mdb146.pgm\n",
            "mdb147.pgm\n",
            "mdb148.pgm\n",
            "mdb149.pgm\n",
            "mdb150.pgm\n",
            "mdb151.pgm\n",
            "mdb152.pgm\n",
            "mdb153.pgm\n",
            "mdb154.pgm\n",
            "mdb155.pgm\n",
            "mdb156.pgm\n",
            "mdb157.pgm\n",
            "mdb158.pgm\n",
            "mdb159.pgm\n",
            "mdb160.pgm\n",
            "mdb161.pgm\n",
            "mdb162.pgm\n",
            "mdb163.pgm\n",
            "mdb164.pgm\n",
            "mdb165.pgm\n",
            "mdb166.pgm\n",
            "mdb167.pgm\n",
            "mdb168.pgm\n",
            "mdb169.pgm\n",
            "mdb170.pgm\n",
            "mdb171.pgm\n",
            "mdb172.pgm\n",
            "mdb173.pgm\n",
            "mdb174.pgm\n",
            "mdb175.pgm\n",
            "mdb176.pgm\n",
            "mdb177.pgm\n",
            "mdb178.pgm\n",
            "mdb179.pgm\n",
            "mdb180.pgm\n",
            "mdb181.pgm\n",
            "mdb182.pgm\n",
            "mdb183.pgm\n",
            "mdb184.pgm\n",
            "mdb185.pgm\n",
            "mdb186.pgm\n",
            "mdb187.pgm\n",
            "mdb188.pgm\n",
            "mdb189.pgm\n",
            "mdb190.pgm\n",
            "mdb191.pgm\n",
            "mdb192.pgm\n",
            "mdb193.pgm\n",
            "mdb194.pgm\n",
            "mdb195.pgm\n",
            "mdb196.pgm\n",
            "mdb197.pgm\n",
            "mdb198.pgm\n",
            "mdb199.pgm\n",
            "mdb200.pgm\n",
            "mdb201.pgm\n",
            "mdb202.pgm\n",
            "mdb203.pgm\n",
            "mdb204.pgm\n",
            "mdb205.pgm\n",
            "mdb206.pgm\n",
            "mdb207.pgm\n",
            "mdb208.pgm\n",
            "mdb209.pgm\n",
            "mdb210.pgm\n",
            "mdb211.pgm\n",
            "mdb212.pgm\n",
            "mdb213.pgm\n",
            "mdb214.pgm\n",
            "mdb215.pgm\n",
            "mdb216.pgm\n",
            "mdb217.pgm\n",
            "mdb218.pgm\n",
            "mdb219.pgm\n",
            "mdb220.pgm\n",
            "mdb221.pgm\n",
            "mdb222.pgm\n",
            "mdb223.pgm\n",
            "mdb224.pgm\n",
            "mdb225.pgm\n",
            "mdb226.pgm\n",
            "mdb227.pgm\n",
            "mdb228.pgm\n",
            "mdb229.pgm\n",
            "mdb230.pgm\n",
            "mdb231.pgm\n",
            "mdb232.pgm\n",
            "mdb233.pgm\n",
            "mdb234.pgm\n",
            "mdb235.pgm\n",
            "mdb236.pgm\n",
            "mdb237.pgm\n",
            "mdb238.pgm\n",
            "mdb239.pgm\n",
            "mdb240.pgm\n",
            "mdb241.pgm\n",
            "mdb242.pgm\n",
            "mdb243.pgm\n",
            "mdb244.pgm\n",
            "mdb245.pgm\n",
            "mdb246.pgm\n",
            "mdb247.pgm\n",
            "mdb248.pgm\n",
            "mdb249.pgm\n",
            "mdb250.pgm\n",
            "mdb251.pgm\n",
            "mdb252.pgm\n",
            "mdb253.pgm\n",
            "mdb254.pgm\n",
            "mdb255.pgm\n",
            "mdb256.pgm\n",
            "mdb257.pgm\n",
            "mdb258.pgm\n",
            "mdb259.pgm\n",
            "mdb260.pgm\n",
            "mdb261.pgm\n",
            "mdb262.pgm\n",
            "mdb263.pgm\n",
            "mdb264.pgm\n",
            "mdb265.pgm\n",
            "mdb266.pgm\n",
            "mdb267.pgm\n",
            "mdb268.pgm\n",
            "mdb269.pgm\n",
            "mdb270.pgm\n",
            "mdb271.pgm\n",
            "mdb272.pgm\n",
            "mdb273.pgm\n",
            "mdb274.pgm\n",
            "mdb275.pgm\n",
            "mdb276.pgm\n",
            "mdb277.pgm\n",
            "mdb278.pgm\n",
            "mdb279.pgm\n",
            "mdb280.pgm\n",
            "mdb281.pgm\n",
            "mdb282.pgm\n",
            "mdb283.pgm\n",
            "mdb284.pgm\n",
            "mdb285.pgm\n",
            "mdb286.pgm\n",
            "mdb287.pgm\n",
            "mdb288.pgm\n",
            "mdb289.pgm\n",
            "mdb290.pgm\n",
            "mdb291.pgm\n",
            "mdb292.pgm\n",
            "mdb293.pgm\n",
            "mdb294.pgm\n",
            "mdb295.pgm\n",
            "mdb296.pgm\n",
            "mdb297.pgm\n",
            "mdb298.pgm\n",
            "mdb299.pgm\n",
            "mdb300.pgm\n",
            "mdb301.pgm\n",
            "mdb302.pgm\n",
            "mdb303.pgm\n",
            "mdb304.pgm\n",
            "mdb305.pgm\n",
            "mdb306.pgm\n",
            "mdb307.pgm\n",
            "mdb308.pgm\n",
            "mdb309.pgm\n",
            "mdb310.pgm\n",
            "mdb311.pgm\n",
            "mdb312.pgm\n",
            "mdb313.pgm\n",
            "mdb314.pgm\n",
            "mdb315.pgm\n",
            "mdb316.pgm\n",
            "mdb317.pgm\n",
            "mdb318.pgm\n",
            "mdb319.pgm\n",
            "mdb320.pgm\n",
            "mdb321.pgm\n",
            "mdb322.pgm\n",
            "mkdir: cannot create directory ‘all-mias’: File exists\n"
          ],
          "name": "stdout"
        }
      ]
    },
    {
      "cell_type": "code",
      "metadata": {
        "id": "L383cyMyB_XI",
        "colab_type": "code",
        "colab": {}
      },
      "source": [
        "import glob \n",
        "import os\n",
        "from PIL import Image "
      ],
      "execution_count": 0,
      "outputs": []
    },
    {
      "cell_type": "markdown",
      "metadata": {
        "id": "OXWUxIoxoddJ",
        "colab_type": "text"
      },
      "source": [
        "# Save weight model"
      ]
    },
    {
      "cell_type": "code",
      "metadata": {
        "id": "d1NijTSRRQmR",
        "colab_type": "code",
        "colab": {}
      },
      "source": [
        "no_angles = 360\n",
        "url ='/content/drive/My Drive/all-mias/'\n",
        "def save_dictionary(path,data):\n",
        "    print('saving catalog...')\n",
        "    #open('u.item', encoding=\"utf-8\")\n",
        "    import json\n",
        "    with open(path,'w') as outfile:\n",
        "      json.dump(str(data), fp=outfile)\n",
        "      # save to file:\n",
        "    print(' catalog saved')"
      ],
      "execution_count": 0,
      "outputs": []
    },
    {
      "cell_type": "markdown",
      "metadata": {
        "id": "9pzeJdMEo2dS",
        "colab_type": "text"
      },
      "source": [
        "# **Read iamge**"
      ]
    },
    {
      "cell_type": "code",
      "metadata": {
        "id": "8-9jGvjFRUVj",
        "colab_type": "code",
        "colab": {}
      },
      "source": [
        "def read_image():\n",
        "    import cv2\n",
        "    info = {}\n",
        "    for i in range(322):\n",
        "        if i<9:\n",
        "            image_name='mdb00'+str(i+1)\n",
        "        elif i<99:\n",
        "            image_name='mdb0'+str(i+1)\n",
        "        else:\n",
        "            image_name = 'mdb' +str(i+1)\n",
        "        # print(image_name)\n",
        "        image_address= url+image_name+'.pgm'\n",
        "        # print(image_address)\n",
        "        img = cv2.imread(image_address, 0)\n",
        "        # print(i)\n",
        "        img = cv2.resize(img, (64,64))   #resize image\n",
        "        rows, cols = img.shape\n",
        "        info[image_name]={}\n",
        "        for angle in range(no_angles):\n",
        "            M = cv2.getRotationMatrix2D((cols / 2, rows / 2), angle, 1)    #Rotate 0 degree\n",
        "            img_rotated = cv2.warpAffine(img, M, (cols, rows))\n",
        "            info[image_name][angle]=img_rotated\n",
        "    return (info)\n"
      ],
      "execution_count": 0,
      "outputs": []
    },
    {
      "cell_type": "markdown",
      "metadata": {
        "id": "jPyoCwv_pABC",
        "colab_type": "text"
      },
      "source": [
        "# Type model "
      ]
    },
    {
      "cell_type": "code",
      "metadata": {
        "id": "Z-L18ETtQKYZ",
        "colab_type": "code",
        "colab": {}
      },
      "source": [
        "def read_lable():\n",
        "    filename = url+'Info.txt'\n",
        "    text_all = open(filename).read()\n",
        "    lines=text_all.split('\\n')\n",
        "    info={}\n",
        "    for line in lines:\n",
        "      words=line.split(' ')\n",
        "      if len(words)>3:\n",
        "          if (words[3] == 'B'):\n",
        "              info[words[0]] = {}\n",
        "              for angle in range(no_angles):\n",
        "                info[words[0]][angle] = 0\n",
        "          if (words[3] == 'M'):\n",
        "            info[words[0]] = {}\n",
        "            for  angle in range(no_angles):\n",
        "              info[words[0]][angle] = 1\n",
        "          if (words[2] == 'NORM'):\n",
        "           info[words[0]] = {}\n",
        "           for angle in range(no_angles):\n",
        "            info[words[0]][angle] = 2\n",
        "\n",
        "    return (info)"
      ],
      "execution_count": 0,
      "outputs": []
    },
    {
      "cell_type": "markdown",
      "metadata": {
        "id": "o3DwaPYzpN2q",
        "colab_type": "text"
      },
      "source": [
        "# Data Agmination"
      ]
    },
    {
      "cell_type": "code",
      "metadata": {
        "id": "38x-9DR-7QvK",
        "colab_type": "code",
        "outputId": "2279cf05-57bd-4fa6-b013-ea4cb34cebce",
        "colab": {
          "base_uri": "https://localhost:8080/",
          "height": 34
        }
      },
      "source": [
        "from keras.preprocessing.image import ImageDataGenerator\n",
        "datagen = ImageDataGenerator(\n",
        "    featurewise_center=True,\n",
        "    featurewise_std_normalization=True,\n",
        "    rotation_range=20,\n",
        "    width_shift_range=0.2,\n",
        "    height_shift_range=0.2,\n",
        "    horizontal_flip=True)"
      ],
      "execution_count": 6,
      "outputs": [
        {
          "output_type": "stream",
          "text": [
            "Using TensorFlow backend.\n"
          ],
          "name": "stderr"
        }
      ]
    },
    {
      "cell_type": "markdown",
      "metadata": {
        "id": "YG9JYoO2pd9p",
        "colab_type": "text"
      },
      "source": [
        "# Split data"
      ]
    },
    {
      "cell_type": "code",
      "metadata": {
        "id": "8ApgRINK8HP5",
        "colab_type": "code",
        "colab": {}
      },
      "source": [
        "def training():\n",
        "    from sklearn.model_selection import train_test_split\n",
        "    import numpy as np\n",
        "    lable_info=read_lable()\n",
        "    image_info=read_image()\n",
        "    ids=lable_info.keys()   \n",
        "    del lable_info['Truth-Data:']\n",
        "    X=[]\n",
        "    Y=[]\n",
        "    for id in ids:\n",
        "        for angle in range(no_angles):\n",
        "            X.append(image_info[id][angle])\n",
        "            Y.append(lable_info[id][angle])\n",
        "    X=np.array(X)\n",
        "    Y=np.array(Y)\n",
        "    \n",
        "    x_train, x_test, y_train, y_test = train_test_split(X, Y, test_size=0.30, random_state=42) \n",
        "    x_train,val_train, y_train, val_test  = train_test_split(x_train, y_train,  test_size=0.10, random_state=42) \n",
        "    (a,b,c)=x_train.shape \n",
        "    x_train = np.reshape(x_train, (a, b, c, 1)) \n",
        "    (a, b, c)=x_test.shape\n",
        "    x_test = np.reshape(x_test, (a, b, c, 1))  \n",
        "    (a, b, c)=val_train.shape\n",
        "    val_train = np.reshape(val_train, (a, b, c, 1)) \n",
        "    datagen.fit(x_train)\n",
        "    datagen.flow(x_train)\n",
        "    cancer_prediction_cnn(x_train, y_train, x_test, y_test, val_train , val_test)\n",
        "    len(x_test)"
      ],
      "execution_count": 0,
      "outputs": []
    },
    {
      "cell_type": "markdown",
      "metadata": {
        "id": "AHobztn7pkmx",
        "colab_type": "text"
      },
      "source": [
        "#Train model"
      ]
    },
    {
      "cell_type": "code",
      "metadata": {
        "id": "TMeZRxmgCO6J",
        "colab_type": "code",
        "colab": {}
      },
      "source": [
        "import matplotlib.pyplot as plt\n"
      ],
      "execution_count": 0,
      "outputs": []
    },
    {
      "cell_type": "code",
      "metadata": {
        "id": "8NwQBvkxjbM1",
        "colab_type": "code",
        "colab": {}
      },
      "source": [
        "\n",
        "def cancer_prediction_cnn(x_train,y_train,x_test,y_test, val_train, val_test):\n",
        "    import numpy as np\n",
        "    from keras.models import Sequential\n",
        "    from keras.layers import Dense, Dropout, Activation, Conv2D, MaxPool2D, Flatten\n",
        "    from keras import optimizers\n",
        "    from keras import losses\n",
        "    rows, cols,color = x_train[0].shape\n",
        "    model = Sequential()\n",
        "    model.add(Conv2D(32, (3, 3), input_shape=(rows, cols, 1) , padding='same'))\n",
        "    model.add(Activation('relu'))\n",
        "    model.add(Conv2D(32, (3, 3) , padding='same'))\n",
        "    model.add(Activation('relu'))\n",
        "    model.add(MaxPool2D(pool_size=(2, 2)))\n",
        "    model.add(Dropout(0.25))\n",
        "    model.add(Flatten())\n",
        "    model.add(Dense(128))\n",
        "    model.add(Activation('relu'))\n",
        "    model.add(Dropout(0.5))\n",
        "    model.add(Dense(128))\n",
        "    model.add(Activation('relu'))\n",
        "    model.add(Dense(3, activation='softmax'))\n",
        "    model.compile(optimizer='adam', loss='sparse_categorical_crossentropy', metrics=['accuracy'])\n",
        "    history = model.fit(x_train,y_train, epochs=40, batch_size=128 ,verbose=1,validation_data=(val_train, val_test))\n",
        "    loss_value , metrics = model.evaluate(x_test, y_test)\n",
        "    print('Test_loss_value = ' +str(loss_value))\n",
        "    print('test_accuracy = ' + str(metrics))\n",
        "    model.save('breast_cance_model.h5')\n",
        "    #plot loss functin\n",
        "    save_dictionary('history1.dat', history.history)\n",
        "    plt.figure(figsize=(12, 6))\n",
        "    plt.plot(history.history['loss'], label=\"Training loss\")\n",
        "    plt.plot(history.history['val_loss'], label=\"Validation loss\")\n",
        "    plt.legend()\n",
        "    plt.title(\"Training vs Validation Loss\")\n",
        "    plt.show()\n",
        "    #plot loss functin\n",
        "    plt.figure(figsize=(12, 6))\n",
        "    plt.plot(history.history['accuracy'], label=\"Training acc\")\n",
        "    plt.plot(history.history['val_accuracy'], label=\"Validation acc\")\n",
        "    plt.legend()\n",
        "    plt.title(\"Training vs Validation Accuracy\")\n",
        "    plt.show()\n",
        "training()"
      ],
      "execution_count": 0,
      "outputs": []
    },
    {
      "cell_type": "code",
      "metadata": {
        "id": "95OZSXfVCNZP",
        "colab_type": "code",
        "colab": {}
      },
      "source": [
        ""
      ],
      "execution_count": 0,
      "outputs": []
    }
  ]
}